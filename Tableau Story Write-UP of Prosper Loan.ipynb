{
 "cells": [
  {
   "cell_type": "markdown",
   "metadata": {},
   "source": [
    "# Tableau Story Write-UP of Prosper Loan Business"
   ]
  },
  {
   "cell_type": "markdown",
   "metadata": {},
   "source": [
    "### Introduction\n",
    "The story was developed from a dataset about Prosper loan, containing over 100k observations with 81 variables spanning across 10 years. In this storty, I have done Tableau visualizations to explore the overall Prosper loan business, why people borrow money from Prosper, what are key features indicating higher default risk. Hopefully this exploration would help investors to make descisions when they invest their money.\n"
   ]
  },
  {
   "cell_type": "markdown",
   "metadata": {},
   "source": [
    "### Summary\n",
    "This story is an extension of the EDA project I did before. In this Tableau story, I looked at the key features that could indicate if a borrower has higher risk of default, such as credit score, interest rate, employment status, monthly income, geographic region, etc. Discoveries include: People borrow money from Prosper for the main reason of debt consolidation; the loan types with highers default risk are student loan, personal loan, and business loan; borrowers with higher risk of default include retired people, students, monthly income <5k, and credit score <600; people also tend to have higher default risk at higher interest rate."
   ]
  },
  {
   "cell_type": "markdown",
   "metadata": {},
   "source": [
    "### Design\n",
    "the Purpose of this story is to dig out the reasons behind loan default, and give some suggestions investors about if someone is reliable to lend money. So the structure of the story come up with the following parts.\n",
    "\n",
    "##### Questions to ask \n",
    "* What are the borrowers' loan status?\n",
    "* Why people borrow money from Prosper?\n",
    "* What are the key features could indicate if a borrower will default or not?\n",
    "* How those features related to the loan status?\n",
    "* If you are an Prosper investor, what would you do?\n",
    "\n"
   ]
  },
  {
   "cell_type": "markdown",
   "metadata": {},
   "source": [
    "#####  Process\n",
    "1. Data Wrangling of the original data set using R, including cleaning missing values, removing irrelevant columns, creating new columns for analysis. A final dataset was created for Tableau story telling.\n",
    "2. page1-An overview of the Prosper loan business.\n",
    "3. Page2-What are the borrowers' loan status?\n",
    "4. Page3-Why people borrowe money from Prosper?\n",
    "5. Page4-Why do they default 1 --Are they employed? How much money do they make each month?\n",
    "6. Page5-Why do they default 2 --What's their occupation?\n",
    "7. Page6-Why do they default 3 --Can the credit scores tell if a borrower will default or not?\n",
    "8. Page7 Why do they default 4 --Do the living regions have an impact on default?\n",
    "9. Page8-Why do they default 5 --does interest rate have an impact on default?  \n"
   ]
  },
  {
   "cell_type": "markdown",
   "metadata": {},
   "source": [
    "##### Overall  design decisions\n",
    "* story captions were used to orient the readers navigation\n",
    "* dashboard captions were used to uncover the findings and conclusions of the charts\n",
    "* the color and sizing of different types headings wre kept consistant\n",
    "* all the titles, axises of charts were labled properly for readers to easily understand the chart information\n",
    "* observations were ordered by descending so the readers could clearly see the  patterns and trends\n",
    "* filters or legends were located in proper loacations for visulizations\n",
    "* the overall design is to keep concise so readers could directly understand the purpose of each chart and how the story is connected\n",
    "\n",
    "##### Page 1\n",
    "* a time series plot could help readers easily understand the business growth of the Prosper loan\n",
    "* an histogram of loan distribution having the highest loan amount marked could directly tell the readers the Prosper loans are small loans, so you could assume borrowers borrow money for personal use. this help us to dig further for the later story telling\n",
    "\n",
    "##### Page 2\n",
    "* loan status is the target variable, a bar chart could give readers direct sneak peek about how many people might default\n",
    "\n",
    "##### Page 3\n",
    "* by parallel comparison between the counts of loan purpose and loan default risk, readers might easily understand why did people borrow money from Prosper\n",
    "* by sorting the default risk, the trend could be clearly seen\n",
    "\n",
    "##### Page 4 & 5 & 6\n",
    "\n",
    "* the purpose of these three dashboards is to look at borrowers' different status, including employment status, monthly income, occupation, and credit score, try to find how those features are related to default. \n",
    "* there are 81 variables for this data set. The correlated features with default are not limit to the above chosen features. They just give an general idea about the borrowers status\n",
    "##### Page 7\n",
    "* this dashboard is to tell one of the causes that could lead to borrowers to default from the investor side, higher default rate is corresponding to higher default risk. But it is hard to conclude higher interest rate is a trigger to default because investor could charge higher interest rate when they see the borrower has low credit score. Further study is needed to make a solid conclusion\n",
    "\n",
    "\n",
    "\n",
    "\n",
    "\n",
    "\n"
   ]
  },
  {
   "cell_type": "markdown",
   "metadata": {},
   "source": [
    "### Feedback \n",
    "\n",
    "##### Initial Feedback\n",
    "##### User1\n",
    "\"Please communicate your findings to the reader by placing it as captions. You can place 2 plots per dashboard if they are connected in some way else you use one plot per dashboard.\"\n",
    "\n",
    "\n",
    "\n"
   ]
  },
  {
   "cell_type": "markdown",
   "metadata": {},
   "source": [
    "##### User2\n",
    "\n",
    "1. in the very first chart, I would rename the y-axis - it wasn't clear to me what it measures.\n",
    "2. in the second slide, by default the charts show only the defaulted category. however, the first chart means to show what is the most popular use for all loans, so i would not even give the option for interactivity, since that would change the meaning of the chart (the title of the chart and the chart itself will not correspond to each other anymore)\n",
    "3. same for the second chart, where if you preserve the interactive character of the chart you allow the user to uncheck defaulted loans and then check some other category. again, the connection with the title of the chart would be lost\n",
    "4. i think if you want to preserve the interactive character of the charts you need to give them a more general title (\"How loan use varies with loan status\" for example - for the first graph). you could even have first that general interactive graph, and then other non-interactive graphs that show your own conclusions.\n",
    "5. third slide: the interactive tab is aligned with the first chart, but it modifies the second one. not sure why....\n",
    "6. fifth slide: I would change causation to correlation - in this case in particular the causation might be going the other way: it might be that because people have a lower credit score, the bank is offering them a higher interest rate since they are at greater risk to default. if you just posit a correlation claim, you won't have to answer this objection\n",
    "7. btw, in the last comment i was referring to the title of the first slide"
   ]
  },
  {
   "cell_type": "markdown",
   "metadata": {},
   "source": [
    "##### Changes made\n",
    "1. Changed the captions for eache sheet with my findings to make it communicate with readers\n",
    "2. Remade most of the plots to make the story more related my goal--finding the reason why people would default, but not limited to the features I listed in the Tableau story\n",
    "3. set the default ratio as target variables, by grouping the loan status 'Defaulted', 'Chargedoff', and all loans past due over 60 days, then calculate the default rate. The reason why I define these loan status as default loans could refer to the [Delinquent loans]( https://www.investopedia.com/terms/d/delinquent.asp) and the default risk prediction project I did previously.\n",
    "4. rearranged the sheets to make the story more clear and connective"
   ]
  },
  {
   "cell_type": "markdown",
   "metadata": {},
   "source": [
    "### My Tableau Story of Prosper Loan\n",
    "\n",
    "* Here is the initial version of my Tableau story：  [Proser loan (Version 1)](https://public.tableau.com/profile/xia7351#!/vizhome/ProsperLoan_10/Story2)\n",
    "                                                                            \n",
    "* Here is the final version of my Tableau story：  [Proser loan (version after feedback)](https://public.tableau.com/profile/xia7351#!/vizhome/ProsperLoan--Versionafterfeedback/Versionafterfeedback)"
   ]
  },
  {
   "cell_type": "markdown",
   "metadata": {},
   "source": [
    "### Resources\n",
    "* https://community.tableau.com/ideas/7517\n",
    "* https://onlinehelp.tableau.com/current/pro/desktop/en-us/buildexamples_histogram.htm\n",
    "* https://community.tableau.com/thread/120387\n",
    "\n"
   ]
  },
  {
   "cell_type": "code",
   "execution_count": null,
   "metadata": {},
   "outputs": [],
   "source": []
  }
 ],
 "metadata": {
  "kernelspec": {
   "display_name": "Python 3",
   "language": "python",
   "name": "python3"
  },
  "language_info": {
   "codemirror_mode": {
    "name": "ipython",
    "version": 3
   },
   "file_extension": ".py",
   "mimetype": "text/x-python",
   "name": "python",
   "nbconvert_exporter": "python",
   "pygments_lexer": "ipython3",
   "version": "3.6.5"
  }
 },
 "nbformat": 4,
 "nbformat_minor": 2
}
